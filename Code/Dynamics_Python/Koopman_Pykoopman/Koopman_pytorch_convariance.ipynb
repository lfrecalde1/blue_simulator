{
 "cells": [
  {
   "cell_type": "code",
   "execution_count": 1,
   "metadata": {
    "id": "oWzdFq2EXPSs"
   },
   "outputs": [],
   "source": [
    "import scipy.io\n",
    "import numpy as np\n",
    "#import casadi as ca\n",
    "import matplotlib as mpl\n",
    "mpl.rcParams.update(mpl.rcParamsDefault)\n",
    "import matplotlib.pyplot as plt\n",
    "from scipy.spatial.transform import Rotation as R\n",
    "import torch\n",
    "import torch.nn as nn\n",
    "import torch.nn.functional as F\n",
    "from torch.autograd import grad\n",
    "from torch.nn.modules.container import T\n",
    "from tqdm import tqdm\n",
    "from collections import defaultdict\n",
    "from collections import OrderedDict\n",
    "import random\n",
    "#from google.colab.patches import cv2_imshow\n",
    "%matplotlib inline"
   ]
  },
  {
   "cell_type": "code",
   "execution_count": 2,
   "metadata": {
    "colab": {
     "base_uri": "https://localhost:8080/"
    },
    "id": "uwgFA27ZXo1Z",
    "outputId": "e5a03ea8-f57d-4870-95c0-c3c59346c7a5"
   },
   "outputs": [
    {
     "name": "stdout",
     "output_type": "stream",
     "text": [
      "True\n"
     ]
    }
   ],
   "source": [
    "if torch.cuda.is_available():\n",
    "    dev = \"cuda:0\"\n",
    "else:\n",
    "    dev = \"cpu\"\n",
    "device = torch.device(dev)\n",
    "print(torch.cuda.is_available())"
   ]
  },
  {
   "cell_type": "code",
   "execution_count": 3,
   "metadata": {
    "id": "HbPyXJtYX16a"
   },
   "outputs": [],
   "source": [
    "def get_odometry(data, angle, vx, vy, vz, wx, wy, wz, vel_control, steer_control, samples_i, samples_f):\n",
    "    # Get size of the data\n",
    "    i, j = data.shape\n",
    "    # Init empty values\n",
    "    x = np.zeros((1, j), dtype = np.double)\n",
    "    y = np.zeros((1, j), dtype = np.double)\n",
    "    z = np.zeros((1, j), dtype = np.double)\n",
    "    quatenions = np.zeros((4, j), dtype = np.double)\n",
    "    orientation_aux = np.zeros((3, j), dtype = np.double)\n",
    "\n",
    "    for k in range(0, j):\n",
    "\n",
    "        # Get Position\n",
    "        x[:, k] = data[0, k]\n",
    "        y[:, k] = data[1, k]\n",
    "        z[:, k] = 0\n",
    "\n",
    "        # Get quaternion\n",
    "        quatenions[:, k] = [data[2, k], data[3, k], data[4, k], data[5, k]]\n",
    "\n",
    "        # Get Euler Angles\n",
    "        aux =  quatenions[:, k]\n",
    "        r = R.from_quat(aux)\n",
    "        orientation_aux[:, k] = r.as_euler('xyz', degrees = False)\n",
    "\n",
    "    # get complete data of the system\n",
    "    h = np.array([x[0,:], y[0,:], z[0,:],\n",
    "                quatenions[0, :], quatenions[1, :], quatenions[2, :], quatenions[3, :],\n",
    "                orientation_aux[0, :], orientation_aux[1, :], orientation_aux[2, :],\n",
    "                angle[0, :]], dtype =np.double)\n",
    "\n",
    "    # Get Velocities of the system\n",
    "    hp = np.array([vx[0, :], vy[0, :], vz[0, :], wx[0, :], wy[0, :], wz[0, :]], dtype = np.double)\n",
    "    T = np.array([vel_control[0,:], steer_control[0, :]], dtype = np.double)\n",
    "    return h[:, samples_i:samples_f+1], hp[:, samples_i:samples_f+1], T[:, samples_i:samples_f]\n"
   ]
  },
  {
   "cell_type": "code",
   "execution_count": 4,
   "metadata": {
    "id": "rkauJWozX4ut"
   },
   "outputs": [],
   "source": [
    "def get_simple_data(h, hp, T):\n",
    "    ## Position\n",
    "    x = h[0, :]\n",
    "    y = h[1, :]\n",
    "    ## Linear velocities\n",
    "    vx = hp[0, :]\n",
    "    vy = hp[1, :]\n",
    "    vz = hp[2, :]\n",
    "\n",
    "    ## Get angular velocities\n",
    "    p = hp[3, :]\n",
    "    q = hp[4, :]\n",
    "    r = hp[5, :]\n",
    "\n",
    "    ## Angular velocities vector\n",
    "    omega = hp[3:6, :]\n",
    "\n",
    "    ## Orientacion\n",
    "    quaternion = h[3:7, :]\n",
    "\n",
    "    ##euler\n",
    "    euler = h[7:10, :]\n",
    "\n",
    "    ## Steer angle =\n",
    "    alpha = h[10, :]\n",
    "\n",
    "    ## General states data\n",
    "    #X = np.array([euler[2,:], omega[2, :], alpha, vx, vy], dtype = np.double)\n",
    "    #X = np.array([euler[0, :], euler[1, :], euler[2, :], omega[0, :], omega[1, :], omega[2, :], alpha, vx, vy, x, y], dtype = np.double)\n",
    "    X = np.array([euler[2, :], omega[2, :], alpha, vx, vy, x, y], dtype = np.double)\n",
    "    ## Control Action\n",
    "\n",
    "\n",
    "    ## Get the dimension of the Data\n",
    "    i, j = X.shape\n",
    "\n",
    "    X1 = X[:, 0:j-1]\n",
    "    X2 = X[:, 1:j]\n",
    "    U_ref = T[:, 0:j-1]\n",
    "    return X1, X2, U_ref"
   ]
  },
  {
   "cell_type": "code",
   "execution_count": 5,
   "metadata": {
    "id": "6NFBufSFX7Mr"
   },
   "outputs": [],
   "source": [
    "def liftFun(x):\n",
    "    x_lift = []\n",
    "    for k in x: x_lift.append(k)\n",
    "\n",
    "\n",
    "    x_lift.append(np.cos(x[0, :])*x[3, :])\n",
    "    x_lift.append(np.tan(x[2, :])*np.sin(x[0, :])*x[3, :])\n",
    "\n",
    "    x_lift.append(np.sin(x[0, :])*x[3, :])\n",
    "    x_lift.append(np.tan(x[2, :])*np.cos(x[0, :])*x[3, :])\n",
    "\n",
    "    x_lift.append(1/(0.6 + np.tan(x[2, :])*np.tan(x[2, :])))\n",
    "\n",
    "    x_lift.append(np.sin(x[0, :])*x[4, :])\n",
    "    x_lift.append(np.tan(x[2, :])*np.cos(x[0, :])*x[4, :])\n",
    "\n",
    "    #x_lift.append(np.cos(x[0, :])*x[4, :])\n",
    "    #x_lift.append(np.tan(x[2, :])*np.sin(x[0, :])*x[4, :])\n",
    "\n",
    "\n",
    "    #x_lift.append(x[3, :]*x[1, :])\n",
    "\n",
    "    # Check this one\n",
    "    #x_lift.append((np.tan(x[2, :]))/(0.6*np.cos(x[2, :])**2 + ((np.tan(x[2, :])**2)*(np.cos(x[2, :])**2))))\n",
    "\n",
    "\n",
    "    x_lift = np.array(x_lift, dtype = np.double)\n",
    "    return x_lift"
   ]
  },
  {
   "cell_type": "code",
   "execution_count": 6,
   "metadata": {
    "id": "BHJvvGN2X_nm"
   },
   "outputs": [],
   "source": [
    "def liftFun_vector(x):\n",
    "    x_lift = []\n",
    "    for k in x: x_lift.append(k)\n",
    "\n",
    "\n",
    "    x_lift.append(np.cos(x[0])*x[3])\n",
    "    x_lift.append(np.tan(x[2])*np.sin(x[0])*x[3])\n",
    "\n",
    "    x_lift.append(np.sin(x[0])*x[3])\n",
    "    x_lift.append(np.tan(x[2])*np.cos(x[0])*x[3])\n",
    "\n",
    "    x_lift.append(1/(0.6 + np.tan(x[2])**2))\n",
    "\n",
    "    x_lift.append(np.sin(x[0])*x[4])\n",
    "    x_lift.append(np.tan(x[2])*np.cos(x[0])*x[4])\n",
    "\n",
    "    #x_lift.append(np.cos(x[0])*x[4])\n",
    "    #x_lift.append(np.tan(x[2])*np.sin(x[0])*x[4])\n",
    "\n",
    "    #x_lift.append(x[3]*x[1])\n",
    "\n",
    "    # Check this one\n",
    "    #x_lift.append((np.tan(x[2]))/(0.6*np.cos(x[2])**2 + ((np.tan(x[2])**2)*(np.cos(x[2])**2))))\n",
    "\n",
    "    x_lift = np.array(x_lift, dtype = np.double)\n",
    "    return x_lift"
   ]
  },
  {
   "cell_type": "code",
   "execution_count": 7,
   "metadata": {
    "colab": {
     "base_uri": "https://localhost:8080/"
    },
    "id": "skfUUysBlRI8",
    "outputId": "cefa1d62-fc59-45be-9b32-5ed9a047617d"
   },
   "outputs": [
    {
     "data": {
      "text/plain": [
       "2000"
      ]
     },
     "execution_count": 7,
     "metadata": {},
     "output_type": "execute_result"
    }
   ],
   "source": [
    "## Reshape Data\n",
    "## Load Matrices from mat file\n",
    "Data = scipy.io.loadmat('blue_data_03.mat')\n",
    "\n",
    "## Get odometry of the system\n",
    "data_odom_blue = Data['data_odom_blue']\n",
    "data_odom_blue = data_odom_blue.T\n",
    "\n",
    "## Get Control steer angle\n",
    "steering_control = Data['steering_control']\n",
    "steering_control = steering_control.T\n",
    "steering_control = steering_control*(np.pi/180)\n",
    "\n",
    "## Get Steer angle real\n",
    "steering_real = Data['steering_real']\n",
    "steering_real = steering_real.T\n",
    "steering_real = steering_real*(np.pi/180)\n",
    "\n",
    "## Get system velocities\n",
    "vx = Data['vx']\n",
    "vx = vx.T\n",
    "vy = Data['vy']\n",
    "vy = vy.T\n",
    "vz = Data['vz']\n",
    "vz = vz.T\n",
    "wx = Data['wx']\n",
    "wx = wx.T\n",
    "wy = Data['wy']\n",
    "wy = wy.T\n",
    "wz = Data['wz']\n",
    "wz = wz.T\n",
    "\n",
    "## Get desired frontal velocity\n",
    "\n",
    "vel_control = Data['vel_control']\n",
    "vel_control = vel_control.T\n",
    "\n",
    "h1, hp1, T1 = get_odometry(data_odom_blue, steering_real, vx, vy, vz, wx, wy, wz, vel_control, steering_control, 0, 1000)\n",
    "\n",
    "Data = scipy.io.loadmat('blue_data_02.mat')\n",
    "\n",
    "## Get odometry of the system\n",
    "data_odom_blue = Data['data_odom_blue']\n",
    "data_odom_blue = data_odom_blue.T\n",
    "\n",
    "## Get Control steer angle\n",
    "steering_control = Data['steering_control']\n",
    "steering_control = steering_control.T\n",
    "steering_control = steering_control*(np.pi/180)\n",
    "\n",
    "## Get Steer angle real\n",
    "steering_real = Data['steering_real']\n",
    "steering_real = steering_real.T\n",
    "steering_real = steering_real*(np.pi/180)\n",
    "\n",
    "## Get system velocities\n",
    "vx = Data['vx']\n",
    "vx = vx.T\n",
    "vy = Data['vy']\n",
    "vy = vy.T\n",
    "vz = Data['vz']\n",
    "vz = vz.T\n",
    "wx = Data['wx']\n",
    "wx = wx.T\n",
    "wy = Data['wy']\n",
    "wy = wy.T\n",
    "wz = Data['wz']\n",
    "wz = wz.T\n",
    "\n",
    "## Get desired frontal velocity\n",
    "\n",
    "vel_control = Data['vel_control']\n",
    "vel_control = vel_control.T\n",
    "\n",
    "h2, hp2, T2 = get_odometry(data_odom_blue, steering_real, vx, vy, vz, wx, wy, wz, vel_control, steering_control, 0, 1000)\n",
    "\n",
    "\n",
    "## Get Data DMD\n",
    "X1_n_1, X2_n_1, U_n_1 = get_simple_data(h1, hp1, T1)\n",
    "\n",
    "X1_n_2, X2_n_2, U_n_2 = get_simple_data(h2, hp2, T2)\n",
    "\n",
    "X1_n = np.hstack((X1_n_1, X1_n_2))\n",
    "X2_n = np.hstack((X2_n_1, X2_n_2))\n",
    "U_n = np.hstack((U_n_1, U_n_2))\n",
    "\n",
    "n_normal = X1_n.shape[0]\n",
    "\n",
    "# Koopman Space\n",
    "X1 = liftFun(X1_n)\n",
    "X2 = liftFun(X2_n)\n",
    "U = U_n\n",
    "\n",
    "n = X1.shape[0]\n",
    "m = U.shape[0]\n",
    "\n",
    "X1.shape[1]"
   ]
  },
  {
   "cell_type": "code",
   "execution_count": 8,
   "metadata": {
    "id": "J8rbB_jYlVuE"
   },
   "outputs": [],
   "source": [
    "class koop_model(torch.nn.Module):\n",
    "    def __init__(self, encode_layers, n, m, n_normal):\n",
    "        super(koop_model,self).__init__()\n",
    "        Layers = OrderedDict()\n",
    "        for layer_i in range(len(encode_layers)-1):\n",
    "            Layers[\"linear_{}\".format(layer_i)] = nn.Linear(encode_layers[layer_i],encode_layers[layer_i+1])\n",
    "            if layer_i != len(encode_layers)-2:\n",
    "                Layers[\"relu_{}\".format(layer_i)] = nn.ReLU()\n",
    "        self.encode_net = nn.Sequential(Layers)\n",
    "        self.Nkoopman = n\n",
    "        self.u_dim = m\n",
    "        self.A = nn.Linear(n, n,bias=False)\n",
    "        self.A.weight.data = torch.eye(n)*0.1\n",
    "        #U, _, V = torch.svd(self.A.weight.data)\n",
    "        #self.A.weight.data = torch.mm(U, V.t()) * 0.9\n",
    "        self.B = nn.Linear(m, n,bias=False)\n",
    "        self.B.weight.data = torch.ones((n, m))\n",
    "\n",
    "        self.C_eye = torch.eye(n_normal, device=device)\n",
    "        self.C_zeros = torch.zeros((n_normal, n - n_normal), device=device)\n",
    "        self.C= torch.cat((self.C_eye, self.C_zeros), dim=1)\n",
    "        self.C = self.C.double()\n",
    "\n",
    "    def encode(self,x):\n",
    "        return torch.cat([x,self.encode_net(x)],axis=-1)\n",
    "\n",
    "    #def forward(self,x,u):\n",
    "        #return self.lA(x)+self.lB(u)\n",
    "    def forward(self, X1, U):\n",
    "        Gamma_1 = X1.T\n",
    "        U = U.T\n",
    "\n",
    "        output_1 = self.A(Gamma_1) + self.B(U)\n",
    "        output_2 = (self.A(Gamma_1) + self.B(U))@self.C.T\n",
    "\n",
    "        return output_1, output_2\n"
   ]
  },
  {
   "cell_type": "code",
   "execution_count": 9,
   "metadata": {
    "id": "0-8u8I-xlbBg"
   },
   "outputs": [],
   "source": [
    "def cost_koopman(X1, X2, U, net, P):\n",
    "\n",
    "    x_k = X2.T@net.C.T\n",
    "    Gamma_k = X2.T\n",
    "\n",
    "    # output Neural Network\n",
    "    output_koopman, output_prediction = net.forward(X1, U)\n",
    "\n",
    "    # Get Error\n",
    "    error_koop = Gamma_k - output_koopman\n",
    "    error_prediction = x_k - output_prediction\n",
    "\n",
    "    error_koop = P.T@error_koop\n",
    "\n",
    "    error_koop_new = error_koop.reshape((error_koop.shape[0]*error_koop.shape[1], 1))\n",
    "    error_prediction_new = error_prediction.reshape((error_prediction.shape[0]*error_prediction.shape[1], 1))\n",
    "\n",
    "    K = torch.cat((net.A.weight, net.B.weight), dim=1)\n",
    "    manipulability = torch.sqrt(torch.det(K@K.T))\n",
    "    #a_m = 0.1\n",
    "    #aux_m = torch.exp(-(manipulability)^2/a_m)\n",
    "    A = net.A.weight\n",
    "    #loss =   1*torch.norm(error_koop_new, p=2) - 0.005*torch.det(A)\n",
    "    loss =   1*torch.norm(error_koop_new, p='fro')\n",
    "    return loss"
   ]
  },
  {
   "cell_type": "code",
   "execution_count": 10,
   "metadata": {
    "id": "IhEMaf82tMqo"
   },
   "outputs": [],
   "source": [
    "def Eig_loss(net):\n",
    "    device = torch.device(\"cuda\" if torch.cuda.is_available() else \"cpu\")\n",
    "    A = net.A.weight\n",
    "    c = torch.linalg.eigvals(A).abs()-torch.ones(1,dtype=torch.float64).to(device)\n",
    "    mask = c>0\n",
    "    loss = c[mask].sum()\n",
    "    return loss"
   ]
  },
  {
   "cell_type": "code",
   "execution_count": 11,
   "metadata": {
    "colab": {
     "base_uri": "https://localhost:8080/"
    },
    "id": "xTc7h5h9lewS",
    "outputId": "110a8f97-98af-4ac0-ad6e-62739f139758"
   },
   "outputs": [
    {
     "data": {
      "text/plain": [
       "torch.Size([14, 2000])"
      ]
     },
     "execution_count": 11,
     "metadata": {},
     "output_type": "execute_result"
    }
   ],
   "source": [
    "## New Data in Pytorch\n",
    "X1_tensor =  torch.tensor(X1,  requires_grad = True).to(device)\n",
    "X1_tensor = X1_tensor.double()\n",
    "\n",
    "X2_tensor =  torch.tensor(X2).to(device)\n",
    "X2_tensor = X2_tensor.double()\n",
    "\n",
    "U_tensor =  torch.tensor(U, requires_grad = True).to(device)\n",
    "U_tensor =  U_tensor.double()\n",
    "X1_tensor.shape\n",
    "\n"
   ]
  },
  {
   "cell_type": "code",
   "execution_count": 12,
   "metadata": {
    "colab": {
     "base_uri": "https://localhost:8080/"
    },
    "id": "7aCwYCcYliy7",
    "outputId": "c346e749-ca3c-42f7-8a5f-83a08b1bbecf"
   },
   "outputs": [
    {
     "name": "stdout",
     "output_type": "stream",
     "text": [
      "Yes\n"
     ]
    },
    {
     "data": {
      "text/plain": [
       "koop_model(\n",
       "  (encode_net): Sequential(\n",
       "    (linear_0): Linear(in_features=7, out_features=128, bias=True)\n",
       "    (relu_0): ReLU()\n",
       "    (linear_1): Linear(in_features=128, out_features=128, bias=True)\n",
       "    (relu_1): ReLU()\n",
       "    (linear_2): Linear(in_features=128, out_features=128, bias=True)\n",
       "    (relu_2): ReLU()\n",
       "    (linear_3): Linear(in_features=128, out_features=20, bias=True)\n",
       "  )\n",
       "  (A): Linear(in_features=14, out_features=14, bias=False)\n",
       "  (B): Linear(in_features=2, out_features=14, bias=False)\n",
       ")"
      ]
     },
     "execution_count": 12,
     "metadata": {},
     "output_type": "execute_result"
    }
   ],
   "source": [
    "encode_dim = 20\n",
    "layer_depth=3\n",
    "layer_width = 128\n",
    "layers = [n_normal] + [layer_width]*layer_depth+[encode_dim]\n",
    "Nkoopman = n_normal + encode_dim\n",
    "neural_network = koop_model(layers, n, m, n_normal)\n",
    "if torch.cuda.is_available():\n",
    "    print(\"Yes\")\n",
    "    neural_network.cuda()\n",
    "neural_network.double()"
   ]
  },
  {
   "cell_type": "code",
   "execution_count": 13,
   "metadata": {
    "id": "zSGj_naVlnW2"
   },
   "outputs": [],
   "source": [
    "optimizer = torch.optim.Adam(neural_network.parameters(), lr=0.0005)"
   ]
  },
  {
   "cell_type": "code",
   "execution_count": null,
   "metadata": {
    "id": "EH_lFAYnlrAj"
   },
   "outputs": [],
   "source": []
  },
  {
   "cell_type": "code",
   "execution_count": 14,
   "metadata": {
    "id": "DzbETJBrlumR"
   },
   "outputs": [
    {
     "name": "stdout",
     "output_type": "stream",
     "text": [
      "tensor([[0.0182, 0.0000, 0.0000,  ..., 0.0000, 0.0000, 0.0000],\n",
      "        [0.0000, 0.0183, 0.0000,  ..., 0.0000, 0.0000, 0.0000],\n",
      "        [0.0000, 0.0000, 0.0183,  ..., 0.0000, 0.0000, 0.0000],\n",
      "        ...,\n",
      "        [0.0000, 0.0000, 0.0000,  ..., 0.9940, 0.0000, 0.0000],\n",
      "        [0.0000, 0.0000, 0.0000,  ..., 0.0000, 0.9960, 0.0000],\n",
      "        [0.0000, 0.0000, 0.0000,  ..., 0.0000, 0.0000, 0.9980]],\n",
      "       device='cuda:0', dtype=torch.float64)\n"
     ]
    }
   ],
   "source": [
    "losses = defaultdict(lambda: defaultdict(list))\n",
    "num_epochs = 30000\n",
    "#Kbatch_size = 400\n",
    "Kbatch_size = X1_tensor.shape[1]\n",
    "\n",
    "P = torch.zeros(1, Kbatch_size).to(device)\n",
    "P = P.double()\n",
    "p = 1\n",
    "for k in range(0, P.shape[1]):\n",
    "  P[0, k] = p**(P.shape[1]- k)\n",
    "P =  torch.diag(P[0, :])\n",
    "print(P)"
   ]
  },
  {
   "cell_type": "code",
   "execution_count": 15,
   "metadata": {
    "colab": {
     "base_uri": "https://localhost:8080/"
    },
    "id": "C-CxFdnnlzw6",
    "outputId": "1e27cdf4-9428-47bc-d6d7-864f979d487d"
   },
   "outputs": [
    {
     "name": "stderr",
     "output_type": "stream",
     "text": [
      "Koopman Neural Network: training epoch:  97%|▉| 29232/30000 [10:04<00:15, 50.37i"
     ]
    }
   ],
   "source": [
    "for epoch in tqdm(range(num_epochs), desc=\"Koopman Neural Network: training epoch\"):\n",
    "        Kindex = list(range(X1_tensor.shape[1]))\n",
    "        random.shuffle(Kindex)\n",
    "\n",
    "\n",
    "        Kloss = cost_koopman(X1_tensor[:, Kindex[:Kbatch_size]], X2_tensor[:, Kindex[:Kbatch_size]], U_tensor[:, Kindex[:Kbatch_size]], neural_network, P)\n",
    "        Keig = Eig_loss(neural_network)\n",
    "        loss = Kloss + 1.5*Keig\n",
    "\n",
    "        # Optimize Network\n",
    "        optimizer.zero_grad()\n",
    "\n",
    "        # Backward pass: compute gradient of the loss with respect to model\n",
    "        # parameters\n",
    "        loss.backward()\n",
    "\n",
    "        # Calling the step function on an Optimizer makes an update to its\n",
    "        # parameters\n",
    "        optimizer.step()\n",
    "\n",
    "\n",
    "        losses[\"Koopman\"][\"collocation\"].append(loss.item())\n",
    "        losses[\"Koopman\"][\"num_epochs\"].append(epoch)\n"
   ]
  },
  {
   "cell_type": "code",
   "execution_count": 16,
   "metadata": {
    "colab": {
     "base_uri": "https://localhost:8080/",
     "height": 1000
    },
    "id": "FTmsN9cEl6wE",
    "outputId": "3b4010ca-427e-4c23-b2d3-23872e0bc341"
   },
   "outputs": [],
   "source": [
    "## Reshape Data\n",
    "## Load Matrices from mat file\n",
    "Data = scipy.io.loadmat('blue_data_03.mat')\n",
    "\n",
    "## Get odometry of the system\n",
    "data_odom_blue = Data['data_odom_blue']\n",
    "data_odom_blue = data_odom_blue.T\n",
    "\n",
    "## Get Control steer angle\n",
    "steering_control = Data['steering_control']\n",
    "steering_control = steering_control.T\n",
    "steering_control = steering_control*(np.pi/180)\n",
    "\n",
    "## Get Steer angle real\n",
    "steering_real = Data['steering_real']\n",
    "steering_real = steering_real.T\n",
    "steering_real = steering_real*(np.pi/180)\n",
    "\n",
    "## Get system velocities\n",
    "vx = Data['vx']\n",
    "vx = vx.T\n",
    "vy = Data['vy']\n",
    "vy = vy.T\n",
    "vz = Data['vz']\n",
    "vz = vz.T\n",
    "wx = Data['wx']\n",
    "wx = wx.T\n",
    "wy = Data['wy']\n",
    "wy = wy.T\n",
    "wz = Data['wz']\n",
    "wz = wz.T\n",
    "\n",
    "## Get desired frontal velocity\n",
    "\n",
    "vel_control = Data['vel_control']\n",
    "vel_control = vel_control.T\n",
    "\n",
    "h1, hp1, T1 = get_odometry(data_odom_blue, steering_real, vx, vy, vz, wx, wy, wz, vel_control, steering_control, 500, 1000)\n",
    "\n",
    "Data = scipy.io.loadmat('blue_data_02.mat')\n",
    "\n",
    "## Get odometry of the system\n",
    "data_odom_blue = Data['data_odom_blue']\n",
    "data_odom_blue = data_odom_blue.T\n",
    "\n",
    "## Get Control steer angle\n",
    "steering_control = Data['steering_control']\n",
    "steering_control = steering_control.T\n",
    "steering_control = steering_control*(np.pi/180)\n",
    "\n",
    "## Get Steer angle real\n",
    "steering_real = Data['steering_real']\n",
    "steering_real = steering_real.T\n",
    "steering_real = steering_real*(np.pi/180)\n",
    "\n",
    "## Get system velocities\n",
    "vx = Data['vx']\n",
    "vx = vx.T\n",
    "vy = Data['vy']\n",
    "vy = vy.T\n",
    "vz = Data['vz']\n",
    "vz = vz.T\n",
    "wx = Data['wx']\n",
    "wx = wx.T\n",
    "wy = Data['wy']\n",
    "wy = wy.T\n",
    "wz = Data['wz']\n",
    "wz = wz.T\n",
    "\n",
    "## Get desired frontal velocity\n",
    "\n",
    "vel_control = Data['vel_control']\n",
    "vel_control = vel_control.T\n",
    "\n",
    "h2, hp2, T2 = get_odometry(data_odom_blue, steering_real, vx, vy, vz, wx, wy, wz, vel_control, steering_control, 0, 1200)\n",
    "\n",
    "\n",
    "## Get Data DMD\n",
    "X1_n_1, X2_n_1, U_n_1 = get_simple_data(h1, hp1, T1)\n",
    "\n",
    "X1_n_2, X2_n_2, U_n_2 = get_simple_data(h2, hp2, T2)\n",
    "\n",
    "X1_n = X1_n_2\n",
    "X2_n = X2_n_2\n",
    "U_n = U_n_2\n",
    "\n",
    "\n",
    "n_normal = X1_n.shape[0]\n",
    "\n",
    "# Koopman Space\n",
    "X1 = liftFun(X1_n)\n",
    "X2 = liftFun(X2_n)\n",
    "U = U_n\n",
    "\n",
    "\n",
    "A_a = neural_network.A.weight.cpu()\n",
    "A_a = A_a.double()\n",
    "A_a = A_a.detach().numpy()\n",
    "\n",
    "B_a = neural_network.B.weight.cpu()\n",
    "B_a = B_a.double()\n",
    "B_a = B_a.detach().numpy()\n",
    "\n",
    "C_ones = np.eye(n_normal, dtype = np.double)\n",
    "C_zeros = np.zeros((n_normal, n - n_normal), dtype=np.double)\n",
    "C_a = np.hstack((C_ones, C_zeros))\n",
    "\n",
    "## Plot matrix A\n",
    "plt.imshow(A_a)\n",
    "plt.colorbar()\n",
    "plt.show()\n",
    "#\n",
    "# Plot matrix B\n",
    "plt.imshow(B_a)\n",
    "plt.colorbar()\n",
    "plt.show()\n",
    "#\n",
    "# New variables in order to verify the identification\n",
    "x_estimate = np.zeros((n_normal, X1.shape[1]+1), dtype=np.double)\n",
    "output_estimate = np.zeros((n_normal, U.shape[1]), dtype=np.double)\n",
    "output_real = np.zeros((n_normal, U.shape[1]), dtype=np.double)\n",
    "error_vector = np.zeros((n_normal, U.shape[1]), dtype=np.double)\n",
    "norm_error = np.zeros((1, U.shape[1]), dtype = np.double)\n",
    "\n",
    "# Initial value\n",
    "x_estimate[:, 0] = C_a@X1[:, 0]\n",
    "\n",
    "for k in range(0, U.shape[1]):\n",
    "    output_estimate[:, k] = x_estimate[:, k]\n",
    "    output_real[:, k] = C_a@X1[:, k]\n",
    "\n",
    "    error_vector[:, k] = output_real[:, k] - output_estimate[:, k]\n",
    "    norm_error[:, k] = np.linalg.norm(error_vector[:, k])\n",
    "\n",
    "    aux_states = liftFun_vector(x_estimate[:, k])\n",
    "    x_estimate[:, k+1] = C_a@(A_a@aux_states + B_a@U[:, k])\n",
    "\n",
    "print(\"Error estimation norm\")\n",
    "print(np.linalg.norm(norm_error))\n",
    "eig_A, eigv_A = np.linalg.eig(A_a)\n",
    "deter = np.linalg.det(A_a)\n",
    "print(\" Eigvalues A\")\n",
    "print(eig_A)\n",
    "print(deter)\n",
    "\n",
    "\n",
    "X_lift = X1_tensor.T\n",
    "aux_inverse = torch.inverse(X_lift.T@X_lift)\n",
    "aux_inverse  = aux_inverse.cpu().detach().numpy()\n",
    "plt.imshow(aux_inverse)\n",
    "plt.colorbar()\n",
    "torch.det(torch.inverse(X_lift.T@X_lift))\n",
    "aux  = X_lift.T@X_lift\n",
    "aux = aux.cpu().detach().numpy()\n",
    "print('Matrix Conditioned')\n",
    "print(np.linalg.cond(aux_inverse))"
   ]
  },
  {
   "cell_type": "code",
   "execution_count": 17,
   "metadata": {
    "colab": {
     "base_uri": "https://localhost:8080/",
     "height": 445
    },
    "id": "C4X4BzejmUoF",
    "outputId": "e88db277-f99e-4e3b-c436-fca3b63160d6"
   },
   "outputs": [],
   "source": [
    "fig, ax1 = plt.subplots(1, 1, figsize=(10, 5))\n",
    "\n",
    "# Plot x_estimate with label 'x_estimate'\n",
    "ax1.plot(x_estimate[0, :], label='psi_estimada')\n",
    "\n",
    "# Plot h with label 'h'\n",
    "ax1.plot(X1[0, 0:X1.shape[1]+1], label='psi_real')\n",
    "\n",
    "# Add a legend\n",
    "ax1.legend()\n",
    "\n",
    "# Show the plot\n",
    "plt.show()"
   ]
  },
  {
   "cell_type": "code",
   "execution_count": 18,
   "metadata": {
    "colab": {
     "base_uri": "https://localhost:8080/",
     "height": 445
    },
    "id": "zjZ0GqEFmWxN",
    "outputId": "c6fe756b-0984-4319-9f7b-b129d6daefc1"
   },
   "outputs": [],
   "source": [
    "fig, ax1 = plt.subplots(1, 1, figsize=(10, 5))\n",
    "\n",
    "# Plot x_estimate with label 'x_estimate'\n",
    "ax1.plot(x_estimate[1, :], label='omega_estimada')\n",
    "\n",
    "# Plot h with label 'h'\n",
    "ax1.plot(X1[1, 0:X1.shape[1]+1], label='omega_real')\n",
    "\n",
    "# Add a legend\n",
    "ax1.legend()\n",
    "\n",
    "# Show the plot\n",
    "plt.show()"
   ]
  },
  {
   "cell_type": "code",
   "execution_count": 19,
   "metadata": {
    "colab": {
     "base_uri": "https://localhost:8080/",
     "height": 447
    },
    "id": "y0m5DMNtMXPF",
    "outputId": "e47db196-96ea-47e5-8897-d1dbae081b66"
   },
   "outputs": [],
   "source": [
    "fig, ax1 = plt.subplots(1, 1, figsize=(10, 5))\n",
    "\n",
    "# Plot x_estimate with label 'x_estimate'\n",
    "ax1.plot(x_estimate[2, :], label='alpha_estimada')\n",
    "\n",
    "# Plot h with label 'h'\n",
    "ax1.plot(X1[2, 0:X1.shape[1]+1], label='alpha_real')\n",
    "\n",
    "# Add a legend\n",
    "ax1.legend()\n",
    "\n",
    "# Show the plot\n",
    "plt.show()"
   ]
  },
  {
   "cell_type": "code",
   "execution_count": 20,
   "metadata": {
    "colab": {
     "base_uri": "https://localhost:8080/",
     "height": 445
    },
    "id": "sYTLjrhEMihb",
    "outputId": "5311d2ea-9b44-4291-ac12-8206ef813f52"
   },
   "outputs": [],
   "source": [
    "fig, ax1 = plt.subplots(1, 1, figsize=(10, 5))\n",
    "\n",
    "# Plot x_estimate with label 'x_estimate'\n",
    "\n",
    "# Plot h with label 'h'\n",
    "ax1.plot(X1[3, 0:X1.shape[1]+1], label='vx_real')\n",
    "ax1.plot(x_estimate[3, :], label='vx_estimada')\n",
    "\n",
    "# Add a legend\n",
    "ax1.legend()\n",
    "\n",
    "# Show the plot\n",
    "plt.show()"
   ]
  },
  {
   "cell_type": "code",
   "execution_count": 21,
   "metadata": {
    "colab": {
     "base_uri": "https://localhost:8080/",
     "height": 445
    },
    "id": "H8wUuSR3m6o_",
    "outputId": "ca69116d-7f37-495f-f8a9-b37cbf4917ca"
   },
   "outputs": [],
   "source": [
    "fig, ax1 = plt.subplots(1, 1, figsize=(10, 5))\n",
    "\n",
    "# Plot x_estimate with label 'x_estimate'\n",
    "\n",
    "# Plot h with label 'h'\n",
    "ax1.plot(X1[4, 0:X1.shape[1]+1], label='vy_real')\n",
    "ax1.plot(x_estimate[4, :], label='vy_estimada')\n",
    "\n",
    "# Add a legend\n",
    "ax1.legend()\n",
    "\n",
    "# Show the plot\n",
    "plt.show()"
   ]
  },
  {
   "cell_type": "code",
   "execution_count": 22,
   "metadata": {
    "colab": {
     "base_uri": "https://localhost:8080/",
     "height": 445
    },
    "id": "b-glIW3eMz-V",
    "outputId": "25e779d3-b547-424a-cd02-cd2a19b2e2d3"
   },
   "outputs": [],
   "source": [
    "fig, ax1 = plt.subplots(1, 1, figsize=(10, 5))\n",
    "\n",
    "# Plot x_estimate with label 'x_estimate'\n",
    "ax1.plot(x_estimate[5, :], label='x_estimada')\n",
    "\n",
    "# Plot h with label 'h'\n",
    "ax1.plot(X1[5, 0:X1.shape[1]+1], label='x_real')\n",
    "\n",
    "# Add a legend\n",
    "ax1.legend()\n",
    "\n",
    "# Show the plot\n",
    "plt.show()"
   ]
  },
  {
   "cell_type": "code",
   "execution_count": 23,
   "metadata": {
    "colab": {
     "base_uri": "https://localhost:8080/",
     "height": 445
    },
    "id": "ukyrGnKFXjuB",
    "outputId": "f39fad72-0ec6-4eac-b951-9d138e68873c"
   },
   "outputs": [],
   "source": [
    "fig, ax1 = plt.subplots(1, 1, figsize=(10, 5))\n",
    "\n",
    "# Plot x_estimate with label 'x_estimate'\n",
    "ax1.plot(x_estimate[6, :], label='y_estimada')\n",
    "\n",
    "# Plot h with label 'h'\n",
    "ax1.plot(X1[6, 0:X1.shape[1]+1], label='y_real')\n",
    "\n",
    "# Add a legend\n",
    "ax1.legend()\n",
    "\n",
    "# Show the plot\n",
    "plt.show()"
   ]
  },
  {
   "cell_type": "code",
   "execution_count": 24,
   "metadata": {
    "colab": {
     "base_uri": "https://localhost:8080/"
    },
    "id": "BhnjuETXnJKf",
    "outputId": "3df97354-bab6-4d95-831c-487acc0b9343"
   },
   "outputs": [],
   "source": [
    "losses[\"Koopman\"][\"collocation\"]\n",
    "costo = np.array(losses[\"Koopman\"][\"collocation\"])\n",
    "epochs = np.array(losses[\"Koopman\"][\"num_epochs\"])\n",
    "costo = costo.reshape(1, costo.shape[0])\n",
    "costo"
   ]
  },
  {
   "cell_type": "code",
   "execution_count": 25,
   "metadata": {
    "colab": {
     "base_uri": "https://localhost:8080/",
     "height": 445
    },
    "id": "kgTmW_ds0GxJ",
    "outputId": "0236a1e0-fdeb-43f7-ad8b-422eafaa89d6"
   },
   "outputs": [],
   "source": [
    "fig, ax1 = plt.subplots(1, 1, figsize=(10, 5))\n",
    "\n",
    "# Plot x_estimate with label 'x_estimate'\n",
    "ax1.plot(costo[0,:], label='error')\n",
    "\n",
    "\n",
    "# Add a legend\n",
    "ax1.legend()\n",
    "\n",
    "# Show the plot\n",
    "plt.show()"
   ]
  },
  {
   "cell_type": "code",
   "execution_count": 26,
   "metadata": {
    "colab": {
     "base_uri": "https://localhost:8080/"
    },
    "id": "p1oSEHQG0HQN",
    "outputId": "b69bb35d-1da8-4e42-dae9-081f442a7b49"
   },
   "outputs": [],
   "source": [
    "300*0.05"
   ]
  },
  {
   "cell_type": "code",
   "execution_count": null,
   "metadata": {
    "id": "t9Ybh1hK6k9D"
   },
   "outputs": [],
   "source": []
  }
 ],
 "metadata": {
  "accelerator": "GPU",
  "colab": {
   "provenance": []
  },
  "kernelspec": {
   "display_name": "Python 3 (ipykernel)",
   "language": "python",
   "name": "python3"
  },
  "language_info": {
   "codemirror_mode": {
    "name": "ipython",
    "version": 3
   },
   "file_extension": ".py",
   "mimetype": "text/x-python",
   "name": "python",
   "nbconvert_exporter": "python",
   "pygments_lexer": "ipython3",
   "version": "3.8.16"
  }
 },
 "nbformat": 4,
 "nbformat_minor": 1
}
